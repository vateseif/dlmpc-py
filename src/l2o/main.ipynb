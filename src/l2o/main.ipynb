{
 "cells": [
  {
   "cell_type": "code",
   "execution_count": 27,
   "metadata": {},
   "outputs": [],
   "source": [
    "import torch\n",
    "import cvxpy as cp\n",
    "import numpy as np"
   ]
  },
  {
   "cell_type": "code",
   "execution_count": 26,
   "metadata": {},
   "outputs": [],
   "source": [
    "x = cp.Variable(2)\n",
    "xd = cp.Parameter(2)\n",
    "cost = cp.norm(x - xd)\n",
    "constraints = []"
   ]
  },
  {
   "cell_type": "code",
   "execution_count": 30,
   "metadata": {},
   "outputs": [],
   "source": [
    "r_obs = 2\n",
    "x_cube = np.array([2, 1])"
   ]
  },
  {
   "cell_type": "code",
   "execution_count": 29,
   "metadata": {},
   "outputs": [],
   "source": [
    "xd.value = eval(\"x_cube + np.array([0, 0.1])\")\n",
    "constraints += [eval(\"cp.norm(x, 1) >= r_obs\")]"
   ]
  }
 ],
 "metadata": {
  "kernelspec": {
   "display_name": "Python 3.9.17 ('l2o')",
   "language": "python",
   "name": "python3"
  },
  "language_info": {
   "codemirror_mode": {
    "name": "ipython",
    "version": 3
   },
   "file_extension": ".py",
   "mimetype": "text/x-python",
   "name": "python",
   "nbconvert_exporter": "python",
   "pygments_lexer": "ipython3",
   "version": "3.9.17"
  },
  "orig_nbformat": 4,
  "vscode": {
   "interpreter": {
    "hash": "0cb2ae9f228bce957c82cc761fcf8d30a4b8d8e1e0cbdddfc1883f15893facd6"
   }
  }
 },
 "nbformat": 4,
 "nbformat_minor": 2
}
