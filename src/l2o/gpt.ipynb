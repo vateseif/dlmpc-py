{
 "cells": [
  {
   "cell_type": "code",
   "execution_count": 1,
   "metadata": {},
   "outputs": [],
   "source": [
    "import os\n",
    "\n",
    "OPENAI_API_KEY = open(os.getcwd() + '/keys/gpt4.key', 'r').readline().rstrip()\n",
    "os.environ[\"OPENAI_API_KEY\"] = OPENAI_API_KEY"
   ]
  },
  {
   "cell_type": "code",
   "execution_count": 2,
   "metadata": {},
   "outputs": [],
   "source": [
    "from typing import List\n",
    "from langchain import PromptTemplate\n",
    "from langchain.prompts.chat import (\n",
    "    ChatPromptTemplate,\n",
    "    SystemMessagePromptTemplate,\n",
    "    AIMessagePromptTemplate,\n",
    "    HumanMessagePromptTemplate,\n",
    ")\n",
    "from pydantic import BaseModel, Field\n",
    "from langchain.output_parsers import PydanticOutputParser\n",
    "from langchain.chat_models import ChatOpenAI"
   ]
  },
  {
   "cell_type": "code",
   "execution_count": 3,
   "metadata": {},
   "outputs": [],
   "source": [
    "chat = ChatOpenAI(model_name=\"gpt-4\", temperature=0.)"
   ]
  },
  {
   "cell_type": "code",
   "execution_count": 4,
   "metadata": {},
   "outputs": [],
   "source": [
    "class Plan(BaseModel):\n",
    "  tasks: List[str] = Field(description=\"list of all tasks that the robot has to carry out\")\n",
    "\n",
    "parser = PydanticOutputParser(pydantic_object=Plan)"
   ]
  },
  {
   "cell_type": "code",
   "execution_count": 5,
   "metadata": {},
   "outputs": [],
   "source": [
    "template=\"\"\"\n",
    "You are a helpful assistant in charge of controlling a robot manipulator.\n",
    "Your task is that of creating a full plan of what the robot has to do in order to stack 4 cubes on top of each other.\n",
    "This is the scene description:\n",
    "  - The robot starts at the home location with the gripper open.\n",
    "  - cube_1 should not be move so you have to move cube_2, cube_3 and cube_4 on top of cube_1.\n",
    "  - Always stack a new cube on top of the last cube you have put on top of the stack.\n",
    "\n",
    "You can control the robot in the following way:\n",
    "  1. move the gripper of the robot\n",
    "  2. open the gripper\n",
    "  3. close the gripper\n",
    "\n",
    "{format_instructions}\n",
    "\"\"\"\n",
    "system_message_prompt = SystemMessagePromptTemplate.from_template(template)\n",
    "#human_template=\"{text}\"\n",
    "#human_message_prompt = HumanMessagePromptTemplate.from_template(human_template)\n",
    "\n",
    "chat_prompt = ChatPromptTemplate.from_messages([system_message_prompt])#, human_message_prompt])"
   ]
  },
  {
   "cell_type": "code",
   "execution_count": 6,
   "metadata": {},
   "outputs": [],
   "source": [
    "output = chat(chat_prompt.format_prompt(format_instructions=parser.get_format_instructions()).to_messages())"
   ]
  },
  {
   "cell_type": "code",
   "execution_count": 8,
   "metadata": {},
   "outputs": [
    {
     "name": "stdout",
     "output_type": "stream",
     "text": [
      "{\n",
      "  \"tasks\": [\n",
      "    \"move gripper to cube_2\",\n",
      "    \"close gripper\",\n",
      "    \"move gripper to cube_1\",\n",
      "    \"open gripper\",\n",
      "    \"move gripper to cube_3\",\n",
      "    \"close gripper\",\n",
      "    \"move gripper to cube_2\",\n",
      "    \"open gripper\",\n",
      "    \"move gripper to cube_4\",\n",
      "    \"close gripper\",\n",
      "    \"move gripper to cube_3\",\n",
      "    \"open gripper\"\n",
      "  ]\n",
      "}\n"
     ]
    }
   ],
   "source": [
    "print(output.content)"
   ]
  },
  {
   "cell_type": "code",
   "execution_count": 7,
   "metadata": {},
   "outputs": [
    {
     "data": {
      "text/plain": [
       "Plan(tasks=['move gripper to cube_2', 'close gripper', 'move gripper to cube_1', 'open gripper', 'move gripper to cube_3', 'close gripper', 'move gripper to cube_2', 'open gripper', 'move gripper to cube_4', 'close gripper', 'move gripper to cube_3', 'open gripper'])"
      ]
     },
     "execution_count": 7,
     "metadata": {},
     "output_type": "execute_result"
    }
   ],
   "source": [
    "parser.parse(output.content)"
   ]
  }
 ],
 "metadata": {
  "kernelspec": {
   "display_name": "Python 3.9.16 ('safepanda')",
   "language": "python",
   "name": "python3"
  },
  "language_info": {
   "codemirror_mode": {
    "name": "ipython",
    "version": 3
   },
   "file_extension": ".py",
   "mimetype": "text/x-python",
   "name": "python",
   "nbconvert_exporter": "python",
   "pygments_lexer": "ipython3",
   "version": "3.9.17"
  },
  "orig_nbformat": 4,
  "vscode": {
   "interpreter": {
    "hash": "c08466c706b383095055b29c479977402a20c9e3eaecf43444f62ae61447e44f"
   }
  }
 },
 "nbformat": 4,
 "nbformat_minor": 2
}
